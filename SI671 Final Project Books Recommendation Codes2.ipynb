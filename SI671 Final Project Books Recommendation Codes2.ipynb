{
 "cells": [
  {
   "cell_type": "markdown",
   "metadata": {},
   "source": [
    "# SI671 Project: Books Recommendation Codes 2"
   ]
  },
  {
   "cell_type": "markdown",
   "metadata": {},
   "source": [
    "## Part 3 LightFM: Hybrid recommender system\n",
    "Because of lack of computation power, it's hard for us to complete the training process. Now we are sampling 2000 readers from all."
   ]
  },
  {
   "cell_type": "code",
   "execution_count": 3,
   "metadata": {},
   "outputs": [],
   "source": [
    "import pandas as pd\n",
    "import numpy as np\n",
    "import pandas as pd\n",
    "import os\n",
    "from scipy.sparse import csr_matrix\n",
    "import numpy as np\n",
    "from IPython.display import display_html\n",
    "import warnings\n",
    "import random\n",
    "\n",
    "import matplotlib.pyplot as plt\n",
    "from matplotlib.gridspec import GridSpec\n",
    "import seaborn as sns\n",
    "%matplotlib inline\n",
    "\n",
    "from lightfm.cross_validation import random_train_test_split\n",
    "from lightfm.evaluation import auc_score, precision_at_k, recall_at_k\n",
    "from lightfm import LightFM\n",
    "#from skopt import forest_minimize\n",
    "\n",
    "import warnings\n",
    "warnings.filterwarnings(\"ignore\")\n",
    "import pandas as pd\n",
    "import numpy as np\n",
    "import matplotlib.pyplot as plt\n",
    "%matplotlib inline\n",
    "import os\n",
    "\n",
    "\n",
    "rating = pd.read_csv( 'ratings.csv' )\n",
    "to_read = pd.read_csv( 'to_read.csv' )\n",
    "book = pd.read_csv( 'books.csv' )\n",
    "tag = pd.read_csv( 'tags.csv' )\n",
    "book_tag = pd.read_csv( 'book_tags.csv')\n",
    "\n",
    "tags_join_DF = pd.merge(book_tag, tag, left_on='tag_id', right_on='tag_id', how='inner')\n",
    "books_with_tags = pd.merge(book, tags_join_DF, left_on='goodreads_book_id', right_on='goodreads_book_id', how='inner')\n",
    "temp_df = books_with_tags.groupby('book_id')['tag_name'].apply(' '.join).reset_index()\n",
    "books = pd.merge(book, temp_df, left_on='book_id', right_on='book_id', how='inner')\n",
    "books['authors'] = books['authors'].apply(lambda x: str.lower(x.replace(\" \", \"\")))\n",
    "books['corpus'] = (pd.Series(books[['authors', 'language_code', 'tag_name']].fillna('').values.tolist()).str.join(' '))"
   ]
  },
  {
   "cell_type": "code",
   "execution_count": 4,
   "metadata": {},
   "outputs": [],
   "source": [
    "rating_lightfm = rating[['user_id','book_id']].groupby(['user_id']).count().reset_index()\n",
    "user_sample = rating_lightfm[rating_lightfm['book_id']>50]['user_id'].values.tolist()\n",
    "\n",
    "rating_lightfm = rating[['user_id','book_id']].groupby(['book_id']).count().reset_index()\n",
    "book_sample = rating_lightfm[rating_lightfm['user_id']>100]['book_id'].values.tolist()\n",
    "\n",
    "random.seed(2020) \n",
    "user_sample = random.sample(user_sample,2000) #\n",
    "#book_sample = random.sample(book_sample,2000) #\n",
    "\n",
    "books_lightfm = books.loc[(books['goodreads_book_id'].isin(book_tag[book_tag['count']>210]['goodreads_book_id']))&(books['book_id'].isin(book_sample))][['book_id', 'corpus']]\n",
    "book_sample = books_lightfm['book_id'].values.tolist()\n",
    "\n",
    "rating_lightfm = rating.loc[rating['user_id'].isin(user_sample)&rating['book_id'].isin(book_sample)].drop_duplicates()\n",
    "user_sample = list(set(rating_lightfm['user_id'].tolist()))\n",
    "book_sample = list(set(rating_lightfm['book_id'].tolist()))\n",
    "\n",
    "books_lightfm = books_lightfm.loc[books_lightfm['book_id'].isin(book_sample)]\n",
    "books_lightfm['tt'] = 1\n",
    "features_list = books_lightfm.groupby(['tt'])['corpus'].apply(' '.join).reset_index()['corpus'][0].split(\" \")\n",
    "features_list = list(set(features_list))\n"
   ]
  },
  {
   "cell_type": "markdown",
   "metadata": {},
   "source": [
    "If want to repeat the results of final, report, could use the following sample ids and the saved model. Can contact yueyangz@umich.edu for any questions."
   ]
  },
  {
   "cell_type": "code",
   "execution_count": 72,
   "metadata": {},
   "outputs": [
    {
     "data": {
      "text/plain": [
       "9374"
      ]
     },
     "execution_count": 72,
     "metadata": {},
     "output_type": "execute_result"
    }
   ],
   "source": [
    "'''\n",
    "sample_data = [user_sample, book_sample]\n",
    "sample_data = pd.DataFrame (sample_data).transpose()\n",
    "sample_data.columns = ['user_sample','book_sample']\n",
    "sample_data.to_csv('sample_id.csv')\n",
    "'''\n",
    "\n",
    "'''\n",
    "sample_data_read = pd.read_csv( 'sample_id.csv')\n",
    "user_sample_read = sample_data_read['user_sample'].tolist()\n",
    "user_sample_read = [x for x in user_sample_read if ~np.isnan(x)]\n",
    "len(user_sample_read)\n",
    "book_sample_read = sample_data_read['book_sample'].tolist()\n",
    "book_sample_read = [x for x in book_sample_read if ~np.isnan(x)]\n",
    "len(book_sample_read)\n",
    "'''"
   ]
  },
  {
   "cell_type": "markdown",
   "metadata": {},
   "source": [
    "Transform original ratings to liked and disliked."
   ]
  },
  {
   "cell_type": "code",
   "execution_count": 5,
   "metadata": {},
   "outputs": [
    {
     "data": {
      "text/html": [
       "<div>\n",
       "<style scoped>\n",
       "    .dataframe tbody tr th:only-of-type {\n",
       "        vertical-align: middle;\n",
       "    }\n",
       "\n",
       "    .dataframe tbody tr th {\n",
       "        vertical-align: top;\n",
       "    }\n",
       "\n",
       "    .dataframe thead th {\n",
       "        text-align: right;\n",
       "    }\n",
       "</style>\n",
       "<table border=\"1\" class=\"dataframe\">\n",
       "  <thead>\n",
       "    <tr style=\"text-align: right;\">\n",
       "      <th></th>\n",
       "      <th>user_id</th>\n",
       "      <th>book_id</th>\n",
       "      <th>rating</th>\n",
       "    </tr>\n",
       "  </thead>\n",
       "  <tbody>\n",
       "    <tr>\n",
       "      <th>44</th>\n",
       "      <td>8</td>\n",
       "      <td>2732</td>\n",
       "      <td>2.428571</td>\n",
       "    </tr>\n",
       "    <tr>\n",
       "      <th>45</th>\n",
       "      <td>8</td>\n",
       "      <td>1432</td>\n",
       "      <td>0.428571</td>\n",
       "    </tr>\n",
       "    <tr>\n",
       "      <th>46</th>\n",
       "      <td>8</td>\n",
       "      <td>479</td>\n",
       "      <td>1.428571</td>\n",
       "    </tr>\n",
       "    <tr>\n",
       "      <th>47</th>\n",
       "      <td>8</td>\n",
       "      <td>3020</td>\n",
       "      <td>2.428571</td>\n",
       "    </tr>\n",
       "    <tr>\n",
       "      <th>48</th>\n",
       "      <td>8</td>\n",
       "      <td>6195</td>\n",
       "      <td>1.428571</td>\n",
       "    </tr>\n",
       "    <tr>\n",
       "      <th>...</th>\n",
       "      <td>...</td>\n",
       "      <td>...</td>\n",
       "      <td>...</td>\n",
       "    </tr>\n",
       "    <tr>\n",
       "      <th>5976321</th>\n",
       "      <td>6392</td>\n",
       "      <td>4493</td>\n",
       "      <td>0.423423</td>\n",
       "    </tr>\n",
       "    <tr>\n",
       "      <th>5976340</th>\n",
       "      <td>35666</td>\n",
       "      <td>167</td>\n",
       "      <td>0.970370</td>\n",
       "    </tr>\n",
       "    <tr>\n",
       "      <th>5976341</th>\n",
       "      <td>35666</td>\n",
       "      <td>322</td>\n",
       "      <td>0.970370</td>\n",
       "    </tr>\n",
       "    <tr>\n",
       "      <th>5976342</th>\n",
       "      <td>35666</td>\n",
       "      <td>192</td>\n",
       "      <td>-1.029630</td>\n",
       "    </tr>\n",
       "    <tr>\n",
       "      <th>5976456</th>\n",
       "      <td>3173</td>\n",
       "      <td>459</td>\n",
       "      <td>2.210000</td>\n",
       "    </tr>\n",
       "  </tbody>\n",
       "</table>\n",
       "<p>224190 rows × 3 columns</p>\n",
       "</div>"
      ],
      "text/plain": [
       "         user_id  book_id    rating\n",
       "44             8     2732  2.428571\n",
       "45             8     1432  0.428571\n",
       "46             8      479  1.428571\n",
       "47             8     3020  2.428571\n",
       "48             8     6195  1.428571\n",
       "...          ...      ...       ...\n",
       "5976321     6392     4493  0.423423\n",
       "5976340    35666      167  0.970370\n",
       "5976341    35666      322  0.970370\n",
       "5976342    35666      192 -1.029630\n",
       "5976456     3173      459  2.210000\n",
       "\n",
       "[224190 rows x 3 columns]"
      ]
     },
     "execution_count": 5,
     "metadata": {},
     "output_type": "execute_result"
    }
   ],
   "source": [
    "rating_lightfm_tranformed = rating_lightfm.copy()\n",
    "avg_rating = rating_lightfm_tranformed.groupby(['user_id']).mean().reset_index()\n",
    "\n",
    "unique_users = rating_lightfm_tranformed.user_id.unique()\n",
    "\n",
    "for i,user in enumerate(unique_users):\n",
    "    # get avg rating\n",
    "    this_avg = float(avg_rating.rating[avg_rating.user_id == user]) - 1\n",
    "    #print(this_avg)\n",
    "    # get user review mtrx\n",
    "    tmp = rating_lightfm_tranformed.rating[rating_lightfm.user_id == user] - this_avg\n",
    "    #tmp[tmp>0] = 1\n",
    "    #tmp[tmp<0] = -1\n",
    "    rating_lightfm_tranformed.rating[rating_lightfm_tranformed.user_id == user] = tmp\n",
    "    \n",
    "\n",
    "rating_lightfm_tranformed\n"
   ]
  },
  {
   "cell_type": "markdown",
   "metadata": {},
   "source": [
    "Build needed datasets. two parts: interactions and item features."
   ]
  },
  {
   "cell_type": "code",
   "execution_count": 6,
   "metadata": {},
   "outputs": [
    {
     "name": "stdout",
     "output_type": "stream",
     "text": [
      "Num users: 2000, num_items 9374.\n",
      "<2000x9374 sparse matrix of type '<class 'numpy.int32'>'\n",
      "\twith 224190 stored elements in COOrdinate format>\n",
      "<2000x9374 sparse matrix of type '<class 'numpy.int32'>'\n",
      "\twith 165284 stored elements in COOrdinate format>\n",
      "<9374x43588 sparse matrix of type '<class 'numpy.float32'>'\n",
      "\twith 965299 stored elements in Compressed Sparse Row format>\n"
     ]
    }
   ],
   "source": [
    "from lightfm.data import Dataset\n",
    "\n",
    "dataset = Dataset()\n",
    "dataset.fit(users=(x['user_id'] for index, x in rating_lightfm[['user_id']].drop_duplicates().iterrows()),\n",
    "            items=(x['book_id'] for index, x in rating_lightfm[['book_id']].drop_duplicates().iterrows()),\n",
    "            item_features=(x for x in features_list))\n",
    "\n",
    "num_users, num_items = dataset.interactions_shape()\n",
    "print('Num users: {}, num_items {}.'.format(num_users, num_items))\n",
    "\n",
    "#(interactions, weights) = dataset.build_interactions(((x['user_id'], x['book_id'], x['rating']) for index, x in rating_lightfm.iterrows()))\n",
    "(interactions_t, weights_t) = dataset.build_interactions(((x['user_id'], x['book_id'], x['rating']) for index, x in rating_lightfm_tranformed[rating_lightfm_tranformed['rating']>=0.5].iterrows()))\n",
    "\n",
    "\n",
    "#print(repr(interactions))\n",
    "print(repr(interactions_t))\n",
    "\n",
    "\n",
    "item_features = dataset.build_item_features(((row['book_id'], list(row['corpus'].split(\" \"))) for index, row in books_lightfm.iterrows()))\n",
    "\n",
    "print(repr(item_features))\n",
    "\n",
    "#train, test = random_train_test_split(interactions, test_percentage=0.2, random_state=np.random.RandomState(3))\n",
    "#train_weights, test_weights = random_train_test_split(weights, test_percentage=0.2, random_state=np.random.RandomState(3))\n"
   ]
  },
  {
   "cell_type": "code",
   "execution_count": 7,
   "metadata": {},
   "outputs": [],
   "source": [
    "train, test = random_train_test_split(interactions_t, test_percentage=0.2, random_state=np.random.RandomState(3))\n"
   ]
  },
  {
   "cell_type": "markdown",
   "metadata": {},
   "source": [
    "This is the final pure CF model"
   ]
  },
  {
   "cell_type": "code",
   "execution_count": 26,
   "metadata": {},
   "outputs": [
    {
     "name": "stdout",
     "output_type": "stream",
     "text": [
      "train_auc: 0.98058164 \n",
      "test_auc: 0.9208575\n"
     ]
    }
   ],
   "source": [
    "random_state=2020\n",
    "learning_rate=0.05\n",
    "no_components=30\n",
    "user_alpha=0.000005\n",
    "num_threads=2\n",
    "\n",
    "model = LightFM(loss='warp',\n",
    "                random_state=random_state,\n",
    "                learning_rate=learning_rate,\n",
    "                learning_schedule='adagrad',\n",
    "                no_components=no_components,\n",
    "                user_alpha=user_alpha,\n",
    "                item_alpha=user_alpha)\n",
    "\n",
    "model = model.fit(train,\n",
    "                  epochs=20,\n",
    "                  num_threads=num_threads, \n",
    "                  verbose=False)\n",
    "\n",
    "\n",
    "train_auc = auc_score(model, train, num_threads=num_threads).mean()\n",
    "test_auc = auc_score(model, test, train_interactions=train, num_threads=num_threads).mean()\n",
    "\n",
    "\n",
    "print(\"train_auc:\",train_auc,\"\\ntest_auc:\",test_auc)"
   ]
  },
  {
   "cell_type": "markdown",
   "metadata": {},
   "source": [
    "Pure CF tuning"
   ]
  },
  {
   "cell_type": "code",
   "execution_count": 9,
   "metadata": {},
   "outputs": [
    {
     "name": "stdout",
     "output_type": "stream",
     "text": [
      "adagrad finished\n",
      "adadelta finished\n"
     ]
    }
   ],
   "source": [
    "random_state=2020\n",
    "learning_rate=0.05\n",
    "no_components=30\n",
    "alpha=0.000005\n",
    "num_threads=2\n",
    "epochs = 90\n",
    "\n",
    "adagrad_model = LightFM(no_components=no_components,\n",
    "                        learning_rate=learning_rate,\n",
    "                        loss='warp',\n",
    "                        learning_schedule='adagrad',\n",
    "                        user_alpha=alpha,\n",
    "                        item_alpha=alpha)\n",
    "adadelta_model = LightFM(no_components=no_components,\n",
    "                         learning_rate=learning_rate,\n",
    "                         loss='warp',\n",
    "                         learning_schedule='adadelta',\n",
    "                         user_alpha=alpha,\n",
    "                         item_alpha=alpha)\n",
    "\n",
    "\n",
    "adagrad_auc = []\n",
    "\n",
    "for epoch in range(epochs):\n",
    "    adagrad_model.fit_partial(train, epochs=1)\n",
    "    adagrad_auc.append(auc_score(adagrad_model, test).mean())\n",
    "    #print(epoch, adagrad_auc[-1])\n",
    "\n",
    "print(\"adagrad finished\")\n",
    "\n",
    "adadelta_auc = []\n",
    "\n",
    "for epoch in range(epochs):\n",
    "    adadelta_model.fit_partial(train, epochs=1)\n",
    "    adadelta_auc.append(auc_score(adadelta_model, test).mean())\n",
    "    #print(epoch, adadelta_auc[-1])\n",
    "    \n",
    "print(\"adadelta finished\")\n"
   ]
  },
  {
   "cell_type": "code",
   "execution_count": 10,
   "metadata": {},
   "outputs": [
    {
     "data": {
      "image/png": "[encoded data removed]",
      "text/plain": [
       "<Figure size 432x288 with 1 Axes>"
      ]
     },
     "metadata": {
      "needs_background": "light"
     },
     "output_type": "display_data"
    },
    {
     "name": "stdout",
     "output_type": "stream",
     "text": [
      "adagrad_auc max: 0.9173147\n",
      "adadelta_auc max: 0.90827477\n"
     ]
    }
   ],
   "source": [
    "x = np.arange(len(adagrad_auc))\n",
    "plt.plot(x, np.array(adagrad_auc))\n",
    "plt.plot(x, np.array(adadelta_auc))\n",
    "plt.legend(['adagrad', 'adadelta'], loc='lower right')\n",
    "plt.show()\n",
    "\n",
    "print(\"adagrad_auc max:\", max(adagrad_auc))\n",
    "print(\"adadelta_auc max:\",max(adadelta_auc))"
   ]
  },
  {
   "cell_type": "markdown",
   "metadata": {},
   "source": [
    "Final hybrid model "
   ]
  },
  {
   "cell_type": "code",
   "execution_count": 31,
   "metadata": {},
   "outputs": [
    {
     "name": "stdout",
     "output_type": "stream",
     "text": [
      "Epoch 0\n",
      "Epoch 1\n",
      "Epoch 2\n",
      "Epoch 3\n",
      "Epoch 4\n",
      "Epoch 5\n",
      "Epoch 6\n",
      "Epoch 7\n",
      "Epoch 8\n",
      "Epoch 9\n",
      "Epoch 10\n",
      "Epoch 11\n",
      "Epoch 12\n",
      "Epoch 13\n",
      "Epoch 14\n",
      "Epoch 15\n",
      "Epoch 16\n",
      "Epoch 17\n",
      "Epoch 18\n",
      "Epoch 19\n",
      "Epoch 20\n",
      "Epoch 21\n",
      "Epoch 22\n",
      "Epoch 23\n",
      "Epoch 24\n",
      "train_auc: 0.97192395 \n",
      "test_auc: 0.9503864\n"
     ]
    }
   ],
   "source": [
    "model = LightFM(loss='warp',\n",
    "                random_state=random_state,\n",
    "                learning_rate=learning_rate,\n",
    "                learning_schedule = 'adadelta',\n",
    "                no_components=30,\n",
    "                user_alpha=user_alpha)\n",
    "\n",
    "model = model.fit(train,\n",
    "                  item_features=item_features,\n",
    "                  epochs=25,\n",
    "                  num_threads=num_threads, verbose=True)\n",
    "\n",
    "train_auc = auc_score(model, train, item_features=item_features).mean()\n",
    "test_auc = auc_score(model, test, item_features=item_features).mean()\n",
    "\n",
    "print(\"train_auc:\",train_auc,\"\\ntest_auc:\",test_auc)\n"
   ]
  },
  {
   "cell_type": "code",
   "execution_count": 60,
   "metadata": {},
   "outputs": [
    {
     "data": {
      "text/plain": [
       "<lightfm.lightfm.LightFM at 0x7fa9298fa5e0>"
      ]
     },
     "execution_count": 60,
     "metadata": {},
     "output_type": "execute_result"
    }
   ],
   "source": [
    "'''\n",
    "import pickle\n",
    "filename = 'final_hybrid_model.sav'\n",
    "pickle.dump(model, open(filename, 'wb'))\n",
    "'''"
   ]
  },
  {
   "cell_type": "markdown",
   "metadata": {},
   "source": [
    "Hybrid model tuning, very slow"
   ]
  },
  {
   "cell_type": "code",
   "execution_count": 78,
   "metadata": {},
   "outputs": [
    {
     "name": "stdout",
     "output_type": "stream",
     "text": [
      "adagrad finished\n",
      "adadelta finished\n"
     ]
    }
   ],
   "source": [
    "random_state=2020\n",
    "learning_rate=0.05\n",
    "no_components=30\n",
    "alpha=0.000005\n",
    "num_threads=2\n",
    "epochs = 120\n",
    "\n",
    "adagrad_model_f = LightFM(no_components=no_components,\n",
    "                        loss='warp',\n",
    "                        learning_schedule='adagrad',\n",
    "                        user_alpha=alpha,\n",
    "                        item_alpha=alpha)\n",
    "adadelta_model_f = LightFM(no_components=no_components,\n",
    "                        loss='warp',\n",
    "                        learning_schedule='adadelta',\n",
    "                        user_alpha=alpha,\n",
    "                        item_alpha=alpha)\n",
    "\n",
    "\n",
    "adagrad_auc = []\n",
    "\n",
    "for epoch in range(epochs):\n",
    "    adagrad_model_f.fit_partial(train, item_features=item_features, epochs=1)\n",
    "    adagrad_auc.append(auc_score(adagrad_model_f, test, item_features=item_features).mean())\n",
    "    #print(epoch, adagrad_auc[-1])\n",
    "    \n",
    "print(\"adagrad finished\")\n",
    "\n",
    "\n",
    "adadelta_auc = []\n",
    "\n",
    "for epoch in range(epochs):\n",
    "    adadelta_model_f.fit_partial(train, item_features=item_features, epochs=1)\n",
    "    adadelta_auc.append(auc_score(adadelta_model_f, test, item_features=item_features).mean())\n",
    "    #print(epoch, adadelta_auc[-1])\n",
    "    \n",
    "print(\"adadelta finished\")"
   ]
  },
  {
   "cell_type": "code",
   "execution_count": 107,
   "metadata": {},
   "outputs": [
    {
     "data": {
      "image/png": "[encoded data removed]",
      "text/plain": [
       "<Figure size 432x288 with 1 Axes>"
      ]
     },
     "metadata": {
      "needs_background": "light"
     },
     "output_type": "display_data"
    },
    {
     "name": "stdout",
     "output_type": "stream",
     "text": [
      "adagrad_auc max: 0.94852895\n",
      "adadelta_auc max: 0.94764113\n"
     ]
    }
   ],
   "source": [
    "x = np.arange(len(adagrad_auc))\n",
    "plt.plot(x, np.array(adagrad_auc))\n",
    "plt.plot(x, np.array(adadelta_auc))\n",
    "plt.legend(['adagrad', 'adadelta'], loc='lower right')\n",
    "plt.show()\n",
    "\n",
    "print(\"adagrad_auc max:\", max(adagrad_auc))\n",
    "print(\"adadelta_auc max:\",max(adadelta_auc))\n"
   ]
  },
  {
   "cell_type": "markdown",
   "metadata": {},
   "source": [
    "Recommendation Demo"
   ]
  },
  {
   "cell_type": "code",
   "execution_count": 75,
   "metadata": {},
   "outputs": [],
   "source": [
    "# This function was produced by @author: Aayush Agrawal\n",
    "def sample_recommendation_user(model, interactions, user_id, user_dict, \n",
    "                               item_dict,threshold = 0.5,nrec_items = 10, show = True):\n",
    "    '''\n",
    "    Function to produce user recommendations\n",
    "    Required Input - \n",
    "        - model = Trained matrix factorization model\n",
    "        - interactions = dataset used for training the model\n",
    "        - user_id = user ID for which we need to generate recommendation\n",
    "        - user_dict = Dictionary type input containing interaction_index as key and user_id as value\n",
    "        - item_dict = Dictionary type input containing item_id as key and item_name as value\n",
    "        - threshold = value above which the rating is favorable in new interaction matrix\n",
    "        - nrec_items = Number of output recommendation needed\n",
    "    Expected Output - \n",
    "        - Prints list of items the given user has already bought\n",
    "        - Prints list of N recommended items  which user hopefully will be interested in\n",
    "    '''\n",
    "    n_users, n_items = interactions.shape\n",
    "    user_x = user_dict[user_id]\n",
    "    scores = pd.Series(model.predict(user_x,np.arange(n_items)))\n",
    "    scores.index = interactions.columns\n",
    "    scores = list(pd.Series(scores.sort_values(ascending=False).index))\n",
    "    \n",
    "    known_items = list(pd.Series(interactions.loc[user_id,:][interactions.loc[user_id,:] >= threshold].index).sort_values(ascending=False))\n",
    "    \n",
    "    scores = [x for x in scores if x not in known_items]\n",
    "    if len(scores) < nrec_items:\n",
    "        nrec_items = len(scores)\n",
    "    return_score_list = scores[0:nrec_items]\n",
    "    known_items = list(pd.Series(known_items).apply(lambda x: item_dict[x]))\n",
    "    scores = list(pd.Series(return_score_list).apply(lambda x: item_dict[x]))\n",
    "    if show == True:\n",
    "        print(\"User ID\", user_id, \"Known Likes:\")\n",
    "        counter = 1\n",
    "        for i in known_items:\n",
    "            print(str(counter) + '- ' + i)\n",
    "            counter+=1\n",
    "\n",
    "        print(\"\\n Recommended Items:\")\n",
    "        counter = 1\n",
    "        for i in scores:\n",
    "            print(str(counter) + '- ' + i)\n",
    "            counter+=1\n",
    "    return return_score_list\n",
    "    \n",
    "\n"
   ]
  },
  {
   "cell_type": "code",
   "execution_count": null,
   "metadata": {},
   "outputs": [],
   "source": [
    "'''\n",
    "loaded_model = pickle.load(open(filename, 'rb'))\n",
    "#model = loaded_model\n",
    "'''"
   ]
  },
  {
   "cell_type": "code",
   "execution_count": 76,
   "metadata": {},
   "outputs": [
    {
     "name": "stdout",
     "output_type": "stream",
     "text": [
      "User ID 34784 Known Likes:\n",
      "1- Vampires are Forever (Argeneau #8)\n",
      "2- Vampire, Interrupted (Argeneau #9)\n",
      "3- A Bite to Remember (Argeneau #5)\n",
      "4- Single White Vampire (Argeneau #3)\n",
      "5- Love Bites (Argeneau #2)\n",
      "6- Bite Me If You Can (Argeneau #6)\n",
      "7- Rusty Nailed (Cocktail, #2)\n",
      "8- Boy Meets Girl (Boy, #2)\n",
      "9- RoomHate\n",
      "10- Frigid (Frigid, #1)\n",
      "11- Avalon High\n",
      "12- Archer's Voice\n",
      "13- Beautiful Stranger (Beautiful Bastard, #2)\n",
      "14- The Vincent Boys (The Vincent Boys, #1)\n",
      "15- This Man Confessed (This Man, #3)\n",
      "16- The Boy Next Door (Boy, #1)\n",
      "17- Queen of Babble (Queen of Babble, #1)\n",
      "18- Beneath This Man (This Man, #2)\n",
      "19- Wait for You (Wait for You, #1)\n",
      "20- Beautiful Bastard (Beautiful Bastard, #1)\n",
      "21- Wallbanger (Cocktail, #1)\n",
      "22- Angus, Thongs and Full-Frontal Snogging (Confessions of Georgia Nicolson, #1)\n",
      "23- Nights in Rodanthe\n",
      "24- Easy (Contours of the Heart, #1)\n",
      "25- The Princess Diaries (The Princess Diaries, #1)\n",
      "26- The Sisterhood of the Traveling Pants (Sisterhood, #1)\n",
      "27- Fifty Shades Darker (Fifty Shades, #2)\n",
      "28- Fifty Shades Freed (Fifty Shades, #3)\n",
      "\n",
      " Recommended Items:\n",
      "1- The Hundred Secret Senses\n",
      "2- The Color of Magic (Discworld, #1; Rincewind #1)\n",
      "3- Bastard Out of Carolina\n",
      "4- Holes (Holes, #1)\n",
      "5- River God (Ancient Egypt, #1)\n",
      "6- City of Lost Souls (The Mortal Instruments, #5)\n",
      "7- Preacher, Volume 4: Ancient History\n",
      "8- The First Commandment (Scot Harvath, #6)\n",
      "9- Going Postal (Discworld, #33; Moist von Lipwig, #1)\n",
      "10- Jasper Jones\n"
     ]
    },
    {
     "data": {
      "text/plain": [
       "[3311, 429, 3237, 77, 3584, 319, 6611, 5839, 1337, 6031]"
      ]
     },
     "execution_count": 76,
     "metadata": {},
     "output_type": "execute_result"
    }
   ],
   "source": [
    "user_book_rating = pd.pivot_table(rating_lightfm_tranformed, index='user_id', columns='book_id', values='rating')\n",
    "user_book_rating = user_book_rating.fillna(0)\n",
    "item_dict ={}\n",
    "df = books.loc[books['book_id'].isin(book_sample)][['book_id', 'title']].reset_index()\n",
    "for i in range(df.shape[0]):\n",
    "    item_dict[(df.loc[i,'book_id'])] = df.loc[i,'title']\n",
    "user_dict = dataset._user_id_mapping\n",
    "\n",
    "\n",
    "sample_recommendation_user(model, interactions=user_book_rating, user_id=34784, user_dict=user_dict, \n",
    "                               item_dict=item_dict,threshold = 0.5,nrec_items = 10, show = True)"
   ]
  }
 ],
 "metadata": {
  "kernelspec": {
   "display_name": "Python 3",
   "language": "python",
   "name": "python3"
  },
  "language_info": {
   "codemirror_mode": {
    "name": "ipython",
    "version": 3
   },
   "file_extension": ".py",
   "mimetype": "text/x-python",
   "name": "python",
   "nbconvert_exporter": "python",
   "pygments_lexer": "ipython3",
   "version": "3.8.3"
  }
 },
 "nbformat": 4,
 "nbformat_minor": 2
}
